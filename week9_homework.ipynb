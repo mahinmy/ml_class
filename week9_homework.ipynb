{
 "cells": [
  {
   "cell_type": "code",
   "execution_count": 1,
   "metadata": {},
   "outputs": [
    {
     "name": "stdout",
     "output_type": "stream",
     "text": [
      "Populating the interactive namespace from numpy and matplotlib\n"
     ]
    }
   ],
   "source": [
    "%pylab inline\n",
    "from sklearn import datasets, linear_model, neighbors, model_selection, neural_network\n",
    "import warnings\n",
    "warnings.filterwarnings('ignore')\n",
    "plt.style.use('fivethirtyeight')"
   ]
  },
  {
   "cell_type": "code",
   "execution_count": 2,
   "metadata": {},
   "outputs": [],
   "source": [
    "x_axis = []\n",
    "for i in range(8):\n",
    "    x5 = []\n",
    "    for j in range(1,6):\n",
    "        x5.append(i*20+j)\n",
    "    x_axis.append(x5)\n",
    "y_axis = []"
   ]
  },
  {
   "cell_type": "code",
   "execution_count": 3,
   "metadata": {},
   "outputs": [],
   "source": [
    "data = datasets.load_iris()\n",
    "X, y = data.data, data.target"
   ]
  },
  {
   "cell_type": "code",
   "execution_count": 4,
   "metadata": {},
   "outputs": [
    {
     "name": "stdout",
     "output_type": "stream",
     "text": [
      "[0.96666667 0.96666667 0.93333333 0.96666667 1.        ]\n",
      "[0.96666667 1.         0.93333333 0.96666667 1.        ]\n"
     ]
    }
   ],
   "source": [
    "for i in [3,5]:\n",
    "    knn_model = neighbors.KNeighborsClassifier(n_neighbors=i)\n",
    "    result = model_selection.cross_val_score(knn_model, X, y, cv=5)\n",
    "    print(result)\n",
    "    y_axis.append(list(result))"
   ]
  },
  {
   "cell_type": "code",
   "execution_count": 5,
   "metadata": {},
   "outputs": [
    {
     "name": "stdout",
     "output_type": "stream",
     "text": [
      "[1.         0.96666667 0.93333333 0.9        1.        ]\n"
     ]
    }
   ],
   "source": [
    "LRmodel = linear_model.LogisticRegression()\n",
    "result = model_selection.cross_val_score(LRmodel, X, y, cv=5)\n",
    "print(result)\n",
    "y_axis.append(list(result))"
   ]
  },
  {
   "cell_type": "code",
   "execution_count": 6,
   "metadata": {},
   "outputs": [
    {
     "name": "stdout",
     "output_type": "stream",
     "text": [
      "[1.         1.         0.93333333 0.93333333 1.        ]\n",
      "[1.         1.         0.93333333 0.93333333 1.        ]\n"
     ]
    }
   ],
   "source": [
    "for i in [100,200]:\n",
    "    NNmodel = neural_network.MLPClassifier(hidden_layer_sizes=(i,))\n",
    "    result = model_selection.cross_val_score(NNmodel, X, y, cv=5)\n",
    "    print(result)\n",
    "    y_axis.append(list(result))"
   ]
  },
  {
   "cell_type": "code",
   "execution_count": 7,
   "metadata": {},
   "outputs": [
    {
     "name": "stdout",
     "output_type": "stream",
     "text": [
      "[0.96666667 1.         0.96666667 0.96666667 1.        ]\n",
      "[0.96666667 1.         0.96666667 0.96666667 1.        ]\n"
     ]
    }
   ],
   "source": [
    "from sklearn.svm import SVC\n",
    "for kernel in ['linear', 'rbf']:\n",
    "    svmModel = SVC(kernel=kernel)\n",
    "    result = model_selection.cross_val_score(svmModel,X,y,cv=5)\n",
    "    print(result)\n",
    "    y_axis.append(list(result))"
   ]
  },
  {
   "cell_type": "code",
   "execution_count": 8,
   "metadata": {},
   "outputs": [
    {
     "data": {
      "text/plain": [
       "[[0.9666666666666667,\n",
       "  0.9666666666666667,\n",
       "  0.9333333333333333,\n",
       "  0.9666666666666667,\n",
       "  1.0],\n",
       " [0.9666666666666667, 1.0, 0.9333333333333333, 0.9666666666666667, 1.0],\n",
       " [1.0, 0.9666666666666667, 0.9333333333333333, 0.9, 1.0],\n",
       " [1.0, 1.0, 0.9333333333333333, 0.9333333333333333, 1.0],\n",
       " [1.0, 1.0, 0.9333333333333333, 0.9333333333333333, 1.0],\n",
       " [0.9666666666666667, 1.0, 0.9666666666666667, 0.9666666666666667, 1.0],\n",
       " [0.9666666666666667, 1.0, 0.9666666666666667, 0.9666666666666667, 1.0]]"
      ]
     },
     "execution_count": 8,
     "metadata": {},
     "output_type": "execute_result"
    }
   ],
   "source": [
    "y_axis"
   ]
  },
  {
   "cell_type": "code",
   "execution_count": 9,
   "metadata": {},
   "outputs": [],
   "source": [
    "from sklearn import tree"
   ]
  },
  {
   "cell_type": "code",
   "execution_count": 10,
   "metadata": {},
   "outputs": [
    {
     "name": "stdout",
     "output_type": "stream",
     "text": [
      "[0.96666667 0.96666667 0.9        0.96666667 1.        ]\n"
     ]
    }
   ],
   "source": [
    "tree_model = tree.DecisionTreeClassifier()\n",
    "result = model_selection.cross_val_score(tree_model, X, y, cv=5)\n",
    "print(result)\n",
    "y_axis.append(list(result))"
   ]
  },
  {
   "cell_type": "code",
   "execution_count": 11,
   "metadata": {},
   "outputs": [
    {
     "data": {
      "text/plain": [
       "(8, 8)"
      ]
     },
     "execution_count": 11,
     "metadata": {},
     "output_type": "execute_result"
    }
   ],
   "source": [
    "len(y_axis),len(x_axis)"
   ]
  },
  {
   "cell_type": "code",
   "execution_count": 12,
   "metadata": {},
   "outputs": [
    {
     "data": {
      "text/plain": [
       "([<matplotlib.axis.XTick at 0x7f91d111a550>,\n",
       "  <matplotlib.axis.XTick at 0x7f91d1ccdd30>,\n",
       "  <matplotlib.axis.XTick at 0x7f91d1ccd9e8>,\n",
       "  <matplotlib.axis.XTick at 0x7f91d10f32e8>,\n",
       "  <matplotlib.axis.XTick at 0x7f91d10f37b8>,\n",
       "  <matplotlib.axis.XTick at 0x7f91d10f3c88>,\n",
       "  <matplotlib.axis.XTick at 0x7f91d10f9240>,\n",
       "  <matplotlib.axis.XTick at 0x7f91d10f97b8>],\n",
       " <a list of 8 Text xticklabel objects>)"
      ]
     },
     "execution_count": 12,
     "metadata": {},
     "output_type": "execute_result"
    },
    {
     "data": {
      "image/png": "[encoded data removed]",
      "text/plain": [
       "<Figure size 432x288 with 1 Axes>"
      ]
     },
     "metadata": {
      "needs_background": "light"
     },
     "output_type": "display_data"
    }
   ],
   "source": [
    "label_list = ['knn3','knn5', 'logiReg','nn100','nn200','svm_lin', 'svm_rbf', 'Dtree']\n",
    "# plt.xticks([i+2 for i in range(0,141,20)], label_list)\n",
    "# plt.scatter(x_axis,y_axis)\n",
    "fig, ax = plt.subplots()\n",
    "for index, ls in enumerate(x_axis):\n",
    "    ax.scatter(ls, y_axis[index])\n",
    "plt.xticks([i+2 for i in range(0,141,20)], label_list)"
   ]
  },
  {
   "cell_type": "code",
   "execution_count": 13,
   "metadata": {},
   "outputs": [],
   "source": [
    "x_axis = []\n",
    "for i in range(8):\n",
    "    x5 = []\n",
    "    for j in range(1,6):\n",
    "        x5.append(i*20+j)\n",
    "    x_axis.append(x5)\n",
    "y_axis = []"
   ]
  },
  {
   "cell_type": "code",
   "execution_count": 14,
   "metadata": {},
   "outputs": [],
   "source": [
    "data = datasets.load_digits()\n",
    "X, y = data.data, data.target"
   ]
  },
  {
   "cell_type": "code",
   "execution_count": 15,
   "metadata": {},
   "outputs": [
    {
     "name": "stdout",
     "output_type": "stream",
     "text": [
      "[0.95604396 0.95856354 0.96657382 0.98319328 0.96619718]\n",
      "[0.9478022  0.9558011  0.96657382 0.98039216 0.96338028]\n"
     ]
    }
   ],
   "source": [
    "for i in [3,5]:\n",
    "    knn_model = neighbors.KNeighborsClassifier(n_neighbors=i)\n",
    "    result = model_selection.cross_val_score(knn_model, X, y, cv=5)\n",
    "    print(result)\n",
    "    y_axis.append(list(result))"
   ]
  },
  {
   "cell_type": "code",
   "execution_count": 16,
   "metadata": {},
   "outputs": [
    {
     "name": "stdout",
     "output_type": "stream",
     "text": [
      "[0.92307692 0.88121547 0.94986072 0.95798319 0.89295775]\n"
     ]
    }
   ],
   "source": [
    "LRmodel = linear_model.LogisticRegression()\n",
    "result = model_selection.cross_val_score(LRmodel, X, y, cv=5)\n",
    "print(result)\n",
    "y_axis.append(list(result))"
   ]
  },
  {
   "cell_type": "code",
   "execution_count": 17,
   "metadata": {},
   "outputs": [
    {
     "name": "stdout",
     "output_type": "stream",
     "text": [
      "[0.95054945 0.8839779  0.95543175 0.96078431 0.89859155]\n",
      "[0.9478022  0.92265193 0.95264624 0.96358543 0.90985915]\n"
     ]
    }
   ],
   "source": [
    "for i in [100,200]:\n",
    "    NNmodel = neural_network.MLPClassifier(hidden_layer_sizes=(i,))\n",
    "    result = model_selection.cross_val_score(NNmodel, X, y, cv=5)\n",
    "    print(result)\n",
    "    y_axis.append(list(result))"
   ]
  },
  {
   "cell_type": "code",
   "execution_count": 18,
   "metadata": {},
   "outputs": [
    {
     "name": "stdout",
     "output_type": "stream",
     "text": [
      "[0.96428571 0.92265193 0.96657382 0.96358543 0.92957746]\n",
      "[0.43406593 0.40883978 0.41504178 0.48739496 0.49859155]\n"
     ]
    }
   ],
   "source": [
    "from sklearn.svm import SVC\n",
    "for kernel in ['linear', 'rbf']:\n",
    "    svmModel = SVC(kernel=kernel)\n",
    "    result = model_selection.cross_val_score(svmModel,X,y,cv=5)\n",
    "    print(result)\n",
    "    y_axis.append(list(result))"
   ]
  },
  {
   "cell_type": "code",
   "execution_count": 19,
   "metadata": {},
   "outputs": [
    {
     "name": "stdout",
     "output_type": "stream",
     "text": [
      "[0.77747253 0.72099448 0.79665738 0.81232493 0.8084507 ]\n"
     ]
    }
   ],
   "source": [
    "tree_model = tree.DecisionTreeClassifier()\n",
    "result = model_selection.cross_val_score(tree_model, X, y, cv=5)\n",
    "print(result)\n",
    "y_axis.append(list(result))"
   ]
  },
  {
   "cell_type": "code",
   "execution_count": 20,
   "metadata": {},
   "outputs": [
    {
     "data": {
      "text/plain": [
       "(8, 8)"
      ]
     },
     "execution_count": 20,
     "metadata": {},
     "output_type": "execute_result"
    }
   ],
   "source": [
    "len(y_axis),len(x_axis)"
   ]
  },
  {
   "cell_type": "code",
   "execution_count": 21,
   "metadata": {},
   "outputs": [
    {
     "data": {
      "text/plain": [
       "([<matplotlib.axis.XTick at 0x7f91d0a0f4a8>,\n",
       "  <matplotlib.axis.XTick at 0x7f91d09f8748>,\n",
       "  <matplotlib.axis.XTick at 0x7f91d09f8390>,\n",
       "  <matplotlib.axis.XTick at 0x7f91d08bbcf8>,\n",
       "  <matplotlib.axis.XTick at 0x7f91d08c8240>,\n",
       "  <matplotlib.axis.XTick at 0x7f91d08c86d8>,\n",
       "  <matplotlib.axis.XTick at 0x7f91d08c8ba8>,\n",
       "  <matplotlib.axis.XTick at 0x7f91d08c8518>],\n",
       " <a list of 8 Text xticklabel objects>)"
      ]
     },
     "execution_count": 21,
     "metadata": {},
     "output_type": "execute_result"
    },
    {
     "data": {
      "image/png": "[encoded data removed]",
      "text/plain": [
       "<Figure size 432x288 with 1 Axes>"
      ]
     },
     "metadata": {
      "needs_background": "light"
     },
     "output_type": "display_data"
    }
   ],
   "source": [
    "label_list = ['knn3','knn5', 'logiReg','nn100','nn200','svm_lin', 'svm_rbf', 'Dtree']\n",
    "# plt.xticks([i+2 for i in range(0,141,20)], label_list)\n",
    "# plt.scatter(x_axis,y_axis)\n",
    "fig, ax = plt.subplots()\n",
    "for index, ls in enumerate(x_axis):\n",
    "    ax.scatter(ls, y_axis[index])\n",
    "plt.xticks([i+2 for i in range(0,141,20)], label_list)"
   ]
  },
  {
   "cell_type": "code",
   "execution_count": 22,
   "metadata": {},
   "outputs": [],
   "source": [
    "x_axis = []\n",
    "for i in range(8):\n",
    "    x5 = []\n",
    "    for j in range(1,6):\n",
    "        x5.append(i*20+j)\n",
    "    x_axis.append(x5)\n",
    "y_axis = []"
   ]
  },
  {
   "cell_type": "code",
   "execution_count": 23,
   "metadata": {},
   "outputs": [],
   "source": [
    "X, y = datasets.make_circles(n_samples=500,noise=0.2,factor=0.5)"
   ]
  },
  {
   "cell_type": "code",
   "execution_count": 24,
   "metadata": {},
   "outputs": [
    {
     "name": "stdout",
     "output_type": "stream",
     "text": [
      "[0.89 0.92 0.95 0.85 0.9 ]\n",
      "[0.89 0.9  0.97 0.8  0.89]\n"
     ]
    }
   ],
   "source": [
    "for i in [3,5]:\n",
    "    knn_model = neighbors.KNeighborsClassifier(n_neighbors=i)\n",
    "    result = model_selection.cross_val_score(knn_model, X, y, cv=5)\n",
    "    print(result)\n",
    "    y_axis.append(list(result))"
   ]
  },
  {
   "cell_type": "code",
   "execution_count": 25,
   "metadata": {},
   "outputs": [
    {
     "name": "stdout",
     "output_type": "stream",
     "text": [
      "[0.43 0.44 0.53 0.43 0.41]\n"
     ]
    }
   ],
   "source": [
    "LRmodel = linear_model.LogisticRegression()\n",
    "result = model_selection.cross_val_score(LRmodel, X, y, cv=5)\n",
    "print(result)\n",
    "y_axis.append(list(result))"
   ]
  },
  {
   "cell_type": "code",
   "execution_count": 26,
   "metadata": {},
   "outputs": [
    {
     "name": "stdout",
     "output_type": "stream",
     "text": [
      "[0.87 0.9  0.94 0.87 0.9 ]\n",
      "[0.88 0.89 0.94 0.87 0.92]\n"
     ]
    }
   ],
   "source": [
    "for i in [100,200]:\n",
    "    NNmodel = neural_network.MLPClassifier(hidden_layer_sizes=(i,))\n",
    "    result = model_selection.cross_val_score(NNmodel, X, y, cv=5)\n",
    "    print(result)\n",
    "    y_axis.append(list(result))"
   ]
  },
  {
   "cell_type": "code",
   "execution_count": 27,
   "metadata": {},
   "outputs": [
    {
     "name": "stdout",
     "output_type": "stream",
     "text": [
      "[0.48 0.54 0.57 0.51 0.52]\n",
      "[0.9  0.89 0.95 0.87 0.92]\n"
     ]
    }
   ],
   "source": [
    "from sklearn.svm import SVC\n",
    "for kernel in ['linear', 'rbf']:\n",
    "    svmModel = SVC(kernel=kernel)\n",
    "    result = model_selection.cross_val_score(svmModel,X,y,cv=5)\n",
    "    print(result)\n",
    "    y_axis.append(list(result))"
   ]
  },
  {
   "cell_type": "code",
   "execution_count": 28,
   "metadata": {},
   "outputs": [
    {
     "name": "stdout",
     "output_type": "stream",
     "text": [
      "[0.83 0.88 0.93 0.82 0.84]\n"
     ]
    }
   ],
   "source": [
    "tree_model = tree.DecisionTreeClassifier()\n",
    "result = model_selection.cross_val_score(tree_model, X, y, cv=5)\n",
    "print(result)\n",
    "y_axis.append(list(result))"
   ]
  },
  {
   "cell_type": "code",
   "execution_count": 29,
   "metadata": {},
   "outputs": [
    {
     "data": {
      "text/plain": [
       "(8, 8)"
      ]
     },
     "execution_count": 29,
     "metadata": {},
     "output_type": "execute_result"
    }
   ],
   "source": [
    "len(y_axis),len(x_axis)"
   ]
  },
  {
   "cell_type": "code",
   "execution_count": 30,
   "metadata": {},
   "outputs": [
    {
     "data": {
      "text/plain": [
       "([<matplotlib.axis.XTick at 0x7f91d10b2438>,\n",
       "  <matplotlib.axis.XTick at 0x7f91d07985c0>,\n",
       "  <matplotlib.axis.XTick at 0x7f91d07982e8>,\n",
       "  <matplotlib.axis.XTick at 0x7f91d09c0d30>,\n",
       "  <matplotlib.axis.XTick at 0x7f91d09cf630>,\n",
       "  <matplotlib.axis.XTick at 0x7f91d09cfb00>,\n",
       "  <matplotlib.axis.XTick at 0x7f91d09cfe80>,\n",
       "  <matplotlib.axis.XTick at 0x7f91d09d64e0>],\n",
       " <a list of 8 Text xticklabel objects>)"
      ]
     },
     "execution_count": 30,
     "metadata": {},
     "output_type": "execute_result"
    },
    {
     "data": {
      "image/png": "[encoded data removed]",
      "text/plain": [
       "<Figure size 432x288 with 1 Axes>"
      ]
     },
     "metadata": {
      "needs_background": "light"
     },
     "output_type": "display_data"
    }
   ],
   "source": [
    "label_list = ['knn3','knn5', 'logiReg','nn100','nn200','svm_lin', 'svm_rbf', 'Dtree']\n",
    "# plt.xticks([i+2 for i in range(0,141,20)], label_list)\n",
    "# plt.scatter(x_axis,y_axis)\n",
    "fig, ax = plt.subplots()\n",
    "for index, ls in enumerate(x_axis):\n",
    "    ax.scatter(ls, y_axis[index])\n",
    "plt.xticks([i+2 for i in range(0,141,20)], label_list)"
   ]
  },
  {
   "cell_type": "code",
   "execution_count": 31,
   "metadata": {},
   "outputs": [],
   "source": [
    "X, y = datasets.make_blobs(n_samples=500, centers=3, cluster_std=2)"
   ]
  },
  {
   "cell_type": "code",
   "execution_count": 32,
   "metadata": {},
   "outputs": [],
   "source": [
    "x_axis = []\n",
    "for i in range(8):\n",
    "    x5 = []\n",
    "    for j in range(1,6):\n",
    "        x5.append(i*20+j)\n",
    "    x_axis.append(x5)\n",
    "y_axis = []"
   ]
  },
  {
   "cell_type": "code",
   "execution_count": 33,
   "metadata": {},
   "outputs": [
    {
     "name": "stdout",
     "output_type": "stream",
     "text": [
      "[1. 1. 1. 1. 1.]\n",
      "[1. 1. 1. 1. 1.]\n"
     ]
    }
   ],
   "source": [
    "for i in [3,5]:\n",
    "    knn_model = neighbors.KNeighborsClassifier(n_neighbors=i)\n",
    "    result = model_selection.cross_val_score(knn_model, X, y, cv=5)\n",
    "    print(result)\n",
    "    y_axis.append(list(result))"
   ]
  },
  {
   "cell_type": "code",
   "execution_count": 34,
   "metadata": {},
   "outputs": [
    {
     "name": "stdout",
     "output_type": "stream",
     "text": [
      "[1.         0.99009901 1.         0.98989899 1.        ]\n"
     ]
    }
   ],
   "source": [
    "LRmodel = linear_model.LogisticRegression()\n",
    "result = model_selection.cross_val_score(LRmodel, X, y, cv=5)\n",
    "print(result)\n",
    "y_axis.append(list(result))"
   ]
  },
  {
   "cell_type": "code",
   "execution_count": 35,
   "metadata": {},
   "outputs": [
    {
     "name": "stdout",
     "output_type": "stream",
     "text": [
      "[1.         0.99009901 1.         1.         1.        ]\n",
      "[1.         0.99009901 1.         0.98989899 1.        ]\n"
     ]
    }
   ],
   "source": [
    "for i in [100,200]:\n",
    "    NNmodel = neural_network.MLPClassifier(hidden_layer_sizes=(i,))\n",
    "    result = model_selection.cross_val_score(NNmodel, X, y, cv=5)\n",
    "    print(result)\n",
    "    y_axis.append(list(result))"
   ]
  },
  {
   "cell_type": "code",
   "execution_count": 36,
   "metadata": {},
   "outputs": [
    {
     "name": "stdout",
     "output_type": "stream",
     "text": [
      "[1. 1. 1. 1. 1.]\n",
      "[1.         0.99009901 1.         0.98989899 1.        ]\n"
     ]
    }
   ],
   "source": [
    "from sklearn.svm import SVC\n",
    "for kernel in ['linear', 'rbf']:\n",
    "    svmModel = SVC(kernel=kernel)\n",
    "    result = model_selection.cross_val_score(svmModel,X,y,cv=5)\n",
    "    print(result)\n",
    "    y_axis.append(list(result))"
   ]
  },
  {
   "cell_type": "code",
   "execution_count": 37,
   "metadata": {},
   "outputs": [
    {
     "name": "stdout",
     "output_type": "stream",
     "text": [
      "[1. 1. 1. 1. 1.]\n"
     ]
    }
   ],
   "source": [
    "tree_model = tree.DecisionTreeClassifier()\n",
    "result = model_selection.cross_val_score(tree_model, X, y, cv=5)\n",
    "print(result)\n",
    "y_axis.append(list(result))"
   ]
  },
  {
   "cell_type": "code",
   "execution_count": 38,
   "metadata": {},
   "outputs": [
    {
     "data": {
      "text/plain": [
       "(8, 8)"
      ]
     },
     "execution_count": 38,
     "metadata": {},
     "output_type": "execute_result"
    }
   ],
   "source": [
    "len(x_axis),len(y_axis)"
   ]
  },
  {
   "cell_type": "code",
   "execution_count": 39,
   "metadata": {},
   "outputs": [
    {
     "data": {
      "text/plain": [
       "([<matplotlib.axis.XTick at 0x7f91d09809b0>,\n",
       "  <matplotlib.axis.XTick at 0x7f91d097b400>,\n",
       "  <matplotlib.axis.XTick at 0x7f91d097bcf8>,\n",
       "  <matplotlib.axis.XTick at 0x7f91d0946b70>,\n",
       "  <matplotlib.axis.XTick at 0x7f91d0946780>,\n",
       "  <matplotlib.axis.XTick at 0x7f91d094f550>,\n",
       "  <matplotlib.axis.XTick at 0x7f91d094fa20>,\n",
       "  <matplotlib.axis.XTick at 0x7f91d094fef0>],\n",
       " <a list of 8 Text xticklabel objects>)"
      ]
     },
     "execution_count": 39,
     "metadata": {},
     "output_type": "execute_result"
    },
    {
     "data": {
      "image/png": "[encoded data removed]",
      "text/plain": [
       "<Figure size 432x288 with 1 Axes>"
      ]
     },
     "metadata": {
      "needs_background": "light"
     },
     "output_type": "display_data"
    }
   ],
   "source": [
    "label_list = ['knn3','knn5', 'logiReg','nn100','nn200','svm_lin', 'svm_rbf', 'Dtree']\n",
    "# plt.xticks([i+2 for i in range(0,141,20)], label_list)\n",
    "# plt.scatter(x_axis,y_axis)\n",
    "fig, ax = plt.subplots()\n",
    "for index, ls in enumerate(x_axis):\n",
    "    ax.scatter(ls, y_axis[index])\n",
    "plt.xticks([i+2 for i in range(0,141,20)], label_list)"
   ]
  },
  {
   "cell_type": "code",
   "execution_count": 40,
   "metadata": {},
   "outputs": [],
   "source": [
    "X, y = datasets.make_moons(n_samples=500,noise=0.1)"
   ]
  },
  {
   "cell_type": "code",
   "execution_count": 41,
   "metadata": {},
   "outputs": [],
   "source": [
    "x_axis = []\n",
    "for i in range(8):\n",
    "    x5 = []\n",
    "    for j in range(1,6):\n",
    "        x5.append(i*20+j)\n",
    "    x_axis.append(x5)\n",
    "y_axis = []"
   ]
  },
  {
   "cell_type": "code",
   "execution_count": 42,
   "metadata": {},
   "outputs": [
    {
     "name": "stdout",
     "output_type": "stream",
     "text": [
      "[1.   0.99 1.   1.   1.  ]\n",
      "[1.   0.98 1.   1.   1.  ]\n"
     ]
    }
   ],
   "source": [
    "for i in [3,5]:\n",
    "    knn_model = neighbors.KNeighborsClassifier(n_neighbors=i)\n",
    "    result = model_selection.cross_val_score(knn_model, X, y, cv=5)\n",
    "    print(result)\n",
    "    y_axis.append(list(result))"
   ]
  },
  {
   "cell_type": "code",
   "execution_count": 43,
   "metadata": {},
   "outputs": [
    {
     "name": "stdout",
     "output_type": "stream",
     "text": [
      "[0.86 0.89 0.88 0.88 0.87]\n"
     ]
    }
   ],
   "source": [
    "LRmodel = linear_model.LogisticRegression()\n",
    "result = model_selection.cross_val_score(LRmodel, X, y, cv=5)\n",
    "print(result)\n",
    "y_axis.append(list(result))"
   ]
  },
  {
   "cell_type": "code",
   "execution_count": 44,
   "metadata": {},
   "outputs": [
    {
     "name": "stdout",
     "output_type": "stream",
     "text": [
      "[0.9  0.91 0.89 0.93 0.91]\n",
      "[0.96 0.93 0.91 0.93 0.93]\n"
     ]
    }
   ],
   "source": [
    "for i in [100,200]:\n",
    "    NNmodel = neural_network.MLPClassifier(hidden_layer_sizes=(i,))\n",
    "    result = model_selection.cross_val_score(NNmodel, X, y, cv=5)\n",
    "    print(result)\n",
    "    y_axis.append(list(result))"
   ]
  },
  {
   "cell_type": "code",
   "execution_count": 45,
   "metadata": {},
   "outputs": [
    {
     "name": "stdout",
     "output_type": "stream",
     "text": [
      "[0.86 0.88 0.88 0.87 0.87]\n",
      "[1.   0.98 0.97 1.   0.99]\n"
     ]
    }
   ],
   "source": [
    "from sklearn.svm import SVC\n",
    "for kernel in ['linear', 'rbf']:\n",
    "    svmModel = SVC(kernel=kernel)\n",
    "    result = model_selection.cross_val_score(svmModel,X,y,cv=5)\n",
    "    print(result)\n",
    "    y_axis.append(list(result))"
   ]
  },
  {
   "cell_type": "code",
   "execution_count": 46,
   "metadata": {},
   "outputs": [
    {
     "name": "stdout",
     "output_type": "stream",
     "text": [
      "[1.   0.98 0.96 1.   1.  ]\n"
     ]
    }
   ],
   "source": [
    "tree_model = tree.DecisionTreeClassifier()\n",
    "result = model_selection.cross_val_score(tree_model, X, y, cv=5)\n",
    "print(result)\n",
    "y_axis.append(list(result))"
   ]
  },
  {
   "cell_type": "code",
   "execution_count": 47,
   "metadata": {},
   "outputs": [
    {
     "data": {
      "text/plain": [
       "(8, 8)"
      ]
     },
     "execution_count": 47,
     "metadata": {},
     "output_type": "execute_result"
    }
   ],
   "source": [
    "len(x_axis),len(y_axis)"
   ]
  },
  {
   "cell_type": "code",
   "execution_count": 48,
   "metadata": {},
   "outputs": [
    {
     "data": {
      "text/plain": [
       "([<matplotlib.axis.XTick at 0x7f91d090d240>,\n",
       "  <matplotlib.axis.XTick at 0x7f91d091ca90>,\n",
       "  <matplotlib.axis.XTick at 0x7f91d091c7b8>,\n",
       "  <matplotlib.axis.XTick at 0x7f91d088f400>,\n",
       "  <matplotlib.axis.XTick at 0x7f91d088f8d0>,\n",
       "  <matplotlib.axis.XTick at 0x7f91d088fda0>,\n",
       "  <matplotlib.axis.XTick at 0x7f91d08942e8>,\n",
       "  <matplotlib.axis.XTick at 0x7f91d0894780>],\n",
       " <a list of 8 Text xticklabel objects>)"
      ]
     },
     "execution_count": 48,
     "metadata": {},
     "output_type": "execute_result"
    },
    {
     "data": {
      "image/png": "[encoded data removed]",
      "text/plain": [
       "<Figure size 432x288 with 1 Axes>"
      ]
     },
     "metadata": {
      "needs_background": "light"
     },
     "output_type": "display_data"
    }
   ],
   "source": [
    "label_list = ['knn3','knn5', 'logiReg','nn100','nn200','svm_lin', 'svm_rbf', 'Dtree']\n",
    "fig, ax = plt.subplots()\n",
    "for index, ls in enumerate(x_axis):\n",
    "    ax.scatter(ls, y_axis[index])\n",
    "plt.xticks([i+2 for i in range(0,141,20)], label_list)"
   ]
  },
  {
   "cell_type": "code",
   "execution_count": null,
   "metadata": {},
   "outputs": [],
   "source": []
  }
 ],
 "metadata": {
  "kernelspec": {
   "display_name": "venv",
   "language": "python",
   "name": "venv"
  },
  "language_info": {
   "codemirror_mode": {
    "name": "ipython",
    "version": 3
   },
   "file_extension": ".py",
   "mimetype": "text/x-python",
   "name": "python",
   "nbconvert_exporter": "python",
   "pygments_lexer": "ipython3",
   "version": "3.6.8"
  }
 },
 "nbformat": 4,
 "nbformat_minor": 2
}
