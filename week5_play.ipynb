{
 "cells": [
  {
   "cell_type": "code",
   "execution_count": 2,
   "metadata": {},
   "outputs": [
    {
     "name": "stdout",
     "output_type": "stream",
     "text": [
      "Populating the interactive namespace from numpy and matplotlib\n"
     ]
    }
   ],
   "source": [
    "%pylab inline\n",
    "from sklearn import datasets, model_selection, metrics, neighbors"
   ]
  },
  {
   "cell_type": "code",
   "execution_count": 3,
   "metadata": {},
   "outputs": [],
   "source": [
    "data = datasets.load_iris()\n",
    "X, y =data.data, data.target"
   ]
  },
  {
   "cell_type": "code",
   "execution_count": 4,
   "metadata": {},
   "outputs": [],
   "source": [
    "X_train, X_test, y_train, y_test = model_selection.train_test_split(X,y,test_size=0.3)"
   ]
  },
  {
   "cell_type": "code",
   "execution_count": 5,
   "metadata": {},
   "outputs": [
    {
     "data": {
      "text/plain": [
       "(105, 45)"
      ]
     },
     "execution_count": 5,
     "metadata": {},
     "output_type": "execute_result"
    }
   ],
   "source": [
    "len(X_train), len(X_test)"
   ]
  },
  {
   "cell_type": "code",
   "execution_count": 6,
   "metadata": {},
   "outputs": [
    {
     "data": {
      "text/plain": [
       "array([0, 0, 0, 0, 0, 0, 0, 0, 0, 0, 0, 0, 0, 0, 0, 0, 0, 0, 0, 0, 0, 0,\n",
       "       0, 0, 0, 0, 0, 0, 0, 0, 0, 0, 0, 0, 0, 0, 0, 0, 0, 0, 0, 0, 0, 0,\n",
       "       0, 0, 0, 0, 0, 0, 1, 1, 1, 1, 1, 1, 1, 1, 1, 1, 1, 1, 1, 1, 1, 1,\n",
       "       1, 1, 1, 1, 1, 1, 1, 1, 1, 1, 1, 1, 1, 1, 1, 1, 1, 1, 1, 1, 1, 1,\n",
       "       1, 1, 1, 1, 1, 1, 1, 1, 1, 1, 1, 1, 2, 2, 2, 2, 2, 2, 2, 2, 2, 2,\n",
       "       2, 2, 2, 2, 2, 2, 2, 2, 2, 2, 2, 2, 2, 2, 2, 2, 2, 2, 2, 2, 2, 2,\n",
       "       2, 2, 2, 2, 2, 2, 2, 2, 2, 2, 2, 2, 2, 2, 2, 2, 2, 2])"
      ]
     },
     "execution_count": 6,
     "metadata": {},
     "output_type": "execute_result"
    }
   ],
   "source": [
    "y"
   ]
  },
  {
   "cell_type": "code",
   "execution_count": 7,
   "metadata": {},
   "outputs": [
    {
     "data": {
      "text/plain": [
       "array([1, 2, 1, 1, 2, 2, 1, 2, 1, 1, 0, 0, 0, 2, 2, 1, 1, 2, 2, 1, 2, 2,\n",
       "       0, 0, 2, 0, 0, 0, 0, 2, 2, 0, 0, 1, 0, 2, 2, 0, 1, 1, 0, 1, 0, 2,\n",
       "       1, 2, 2, 2, 0, 1, 2, 2, 2, 1, 1, 2, 1, 1, 1, 0, 2, 1, 0, 2, 1, 0,\n",
       "       2, 0, 1, 0, 0, 1, 1, 0, 0, 1, 1, 0, 1, 2, 2, 1, 0, 1, 1, 1, 1, 0,\n",
       "       1, 0, 0, 2, 2, 0, 0, 2, 0, 2, 2, 2, 0, 1, 0, 2, 1])"
      ]
     },
     "execution_count": 7,
     "metadata": {},
     "output_type": "execute_result"
    }
   ],
   "source": [
    "y_train"
   ]
  },
  {
   "cell_type": "code",
   "execution_count": 8,
   "metadata": {},
   "outputs": [
    {
     "data": {
      "text/plain": [
       "KNeighborsClassifier(algorithm='auto', leaf_size=30, metric='minkowski',\n",
       "                     metric_params=None, n_jobs=None, n_neighbors=5, p=2,\n",
       "                     weights='uniform')"
      ]
     },
     "execution_count": 8,
     "metadata": {},
     "output_type": "execute_result"
    }
   ],
   "source": [
    "model = neighbors.KNeighborsClassifier()\n",
    "model.fit(X_train,y_train)"
   ]
  },
  {
   "cell_type": "code",
   "execution_count": 9,
   "metadata": {},
   "outputs": [
    {
     "data": {
      "text/plain": [
       "0.9777777777777777"
      ]
     },
     "execution_count": 9,
     "metadata": {},
     "output_type": "execute_result"
    }
   ],
   "source": [
    "y_tests_predict = model.predict(X_test)\n",
    "metrics.accuracy_score(y_test, y_tests_predict)"
   ]
  },
  {
   "cell_type": "code",
   "execution_count": 11,
   "metadata": {},
   "outputs": [
    {
     "data": {
      "text/plain": [
       "array([0.96666667, 1.        , 0.93333333, 0.96666667, 1.        ])"
      ]
     },
     "execution_count": 11,
     "metadata": {},
     "output_type": "execute_result"
    }
   ],
   "source": [
    "model_selection.cross_val_score(model,X, y,cv=5,scoring=\"accuracy\")"
   ]
  },
  {
   "cell_type": "code",
   "execution_count": 12,
   "metadata": {},
   "outputs": [],
   "source": [
    "train_scores, test_scores = model_selection.validation_curve(model, X, y, 'n_neighbors', range(1,61),cv=5)"
   ]
  },
  {
   "cell_type": "code",
   "execution_count": 13,
   "metadata": {},
   "outputs": [
    {
     "data": {
      "text/plain": [
       "(60, 5)"
      ]
     },
     "execution_count": 13,
     "metadata": {},
     "output_type": "execute_result"
    }
   ],
   "source": [
    "train_scores.shape"
   ]
  },
  {
   "cell_type": "code",
   "execution_count": 14,
   "metadata": {},
   "outputs": [
    {
     "data": {
      "text/plain": [
       "<matplotlib.legend.Legend at 0x7fcecf2c1630>"
      ]
     },
     "execution_count": 14,
     "metadata": {},
     "output_type": "execute_result"
    }
   ],
   "source": [
    "fig, ax = plt.subplots()\n",
    "ax.plot(range(1,61),[mean(xx) for xx in train_scores],label='training error')\n",
    "ax.plot(range(1,61),[mean(xx) for xx in test_scores],label='training error')\n",
    "ax.legend()"
   ]
  },
  {
   "cell_type": "code",
   "execution_count": 16,
   "metadata": {},
   "outputs": [
    {
     "data": {
      "image/png": "[encoded data removed]",
      "text/plain": [
       "<Figure size 432x288 with 1 Axes>"
      ]
     },
     "execution_count": 16,
     "metadata": {},
     "output_type": "execute_result"
    }
   ],
   "source": [
    "fig"
   ]
  },
  {
   "cell_type": "code",
   "execution_count": 17,
   "metadata": {},
   "outputs": [
    {
     "data": {
      "text/plain": [
       "(array([[1.        , 1.        , 1.        , 1.        , 1.        ],\n",
       "        [0.975     , 0.98333333, 0.975     , 0.98333333, 0.975     ],\n",
       "        [0.95833333, 0.95833333, 0.96666667, 0.96666667, 0.95      ],\n",
       "        [0.95833333, 0.95833333, 0.95833333, 0.975     , 0.96666667],\n",
       "        [0.96666667, 0.96666667, 0.975     , 0.975     , 0.96666667],\n",
       "        [0.96666667, 0.975     , 0.975     , 0.98333333, 0.96666667],\n",
       "        [0.96666667, 0.96666667, 0.975     , 0.98333333, 0.975     ],\n",
       "        [0.975     , 0.98333333, 0.975     , 0.99166667, 0.975     ],\n",
       "        [0.975     , 0.98333333, 0.975     , 0.98333333, 0.975     ],\n",
       "        [0.975     , 0.975     , 0.975     , 0.98333333, 0.95833333],\n",
       "        [0.98333333, 0.975     , 0.975     , 0.975     , 0.96666667],\n",
       "        [0.98333333, 0.975     , 0.975     , 0.98333333, 0.95833333],\n",
       "        [0.98333333, 0.975     , 0.975     , 0.98333333, 0.975     ],\n",
       "        [0.98333333, 0.975     , 0.975     , 0.98333333, 0.96666667],\n",
       "        [0.98333333, 0.975     , 0.98333333, 0.975     , 0.96666667],\n",
       "        [0.98333333, 0.98333333, 0.975     , 0.98333333, 0.95      ],\n",
       "        [0.98333333, 0.96666667, 0.98333333, 0.98333333, 0.95833333],\n",
       "        [0.98333333, 0.98333333, 0.975     , 0.98333333, 0.95      ],\n",
       "        [0.98333333, 0.975     , 0.975     , 0.98333333, 0.95      ],\n",
       "        [0.98333333, 0.95833333, 0.975     , 0.975     , 0.94166667],\n",
       "        [0.96666667, 0.975     , 0.975     , 0.975     , 0.95      ],\n",
       "        [0.975     , 0.94166667, 0.95833333, 0.99166667, 0.95      ],\n",
       "        [0.975     , 0.95      , 0.95833333, 0.98333333, 0.95      ],\n",
       "        [0.975     , 0.94166667, 0.95833333, 0.975     , 0.93333333],\n",
       "        [0.975     , 0.95      , 0.96666667, 0.96666667, 0.94166667],\n",
       "        [0.975     , 0.93333333, 0.96666667, 0.96666667, 0.93333333],\n",
       "        [0.96666667, 0.94166667, 0.96666667, 0.96666667, 0.94166667],\n",
       "        [0.95      , 0.94166667, 0.95833333, 0.96666667, 0.94166667],\n",
       "        [0.95833333, 0.94166667, 0.95833333, 0.96666667, 0.94166667],\n",
       "        [0.95833333, 0.93333333, 0.95833333, 0.96666667, 0.93333333],\n",
       "        [0.94166667, 0.93333333, 0.96666667, 0.96666667, 0.925     ],\n",
       "        [0.94166667, 0.95      , 0.95833333, 0.96666667, 0.93333333],\n",
       "        [0.94166667, 0.95      , 0.96666667, 0.975     , 0.93333333],\n",
       "        [0.95833333, 0.95      , 0.96666667, 0.975     , 0.93333333],\n",
       "        [0.96666667, 0.94166667, 0.95      , 0.96666667, 0.93333333],\n",
       "        [0.95833333, 0.93333333, 0.95833333, 0.96666667, 0.94166667],\n",
       "        [0.96666667, 0.93333333, 0.95833333, 0.95833333, 0.95      ],\n",
       "        [0.95833333, 0.94166667, 0.95833333, 0.93333333, 0.94166667],\n",
       "        [0.95833333, 0.93333333, 0.95833333, 0.95833333, 0.93333333],\n",
       "        [0.95833333, 0.925     , 0.95833333, 0.94166667, 0.93333333],\n",
       "        [0.95833333, 0.91666667, 0.94166667, 0.95      , 0.925     ],\n",
       "        [0.96666667, 0.9       , 0.94166667, 0.93333333, 0.90833333],\n",
       "        [0.96666667, 0.93333333, 0.95      , 0.93333333, 0.90833333],\n",
       "        [0.95833333, 0.90833333, 0.95      , 0.91666667, 0.90833333],\n",
       "        [0.95      , 0.9       , 0.95      , 0.925     , 0.91666667],\n",
       "        [0.94166667, 0.89166667, 0.95      , 0.925     , 0.90833333],\n",
       "        [0.94166667, 0.89166667, 0.94166667, 0.925     , 0.90833333],\n",
       "        [0.94166667, 0.9       , 0.95      , 0.9       , 0.90833333],\n",
       "        [0.94166667, 0.89166667, 0.95      , 0.93333333, 0.90833333],\n",
       "        [0.94166667, 0.89166667, 0.95      , 0.91666667, 0.90833333],\n",
       "        [0.94166667, 0.89166667, 0.95      , 0.91666667, 0.90833333],\n",
       "        [0.93333333, 0.88333333, 0.95      , 0.90833333, 0.9       ],\n",
       "        [0.93333333, 0.88333333, 0.95      , 0.90833333, 0.9       ],\n",
       "        [0.93333333, 0.88333333, 0.94166667, 0.89166667, 0.9       ],\n",
       "        [0.93333333, 0.88333333, 0.95      , 0.89166667, 0.9       ],\n",
       "        [0.94166667, 0.875     , 0.95      , 0.89166667, 0.9       ],\n",
       "        [0.93333333, 0.88333333, 0.94166667, 0.89166667, 0.89166667],\n",
       "        [0.925     , 0.875     , 0.95      , 0.9       , 0.89166667],\n",
       "        [0.91666667, 0.88333333, 0.94166667, 0.89166667, 0.89166667],\n",
       "        [0.925     , 0.875     , 0.93333333, 0.89166667, 0.89166667]]),\n",
       " array([[0.96666667, 0.96666667, 0.93333333, 0.93333333, 1.        ],\n",
       "        [0.96666667, 0.93333333, 0.93333333, 0.9       , 1.        ],\n",
       "        [0.96666667, 0.96666667, 0.93333333, 0.96666667, 1.        ],\n",
       "        [0.96666667, 0.96666667, 0.96666667, 0.96666667, 1.        ],\n",
       "        [0.96666667, 1.        , 0.93333333, 0.96666667, 1.        ],\n",
       "        [0.96666667, 1.        , 0.96666667, 0.96666667, 1.        ],\n",
       "        [0.96666667, 1.        , 0.96666667, 0.96666667, 1.        ],\n",
       "        [0.96666667, 1.        , 0.93333333, 0.93333333, 1.        ],\n",
       "        [0.96666667, 1.        , 0.96666667, 0.93333333, 1.        ],\n",
       "        [0.96666667, 1.        , 1.        , 0.93333333, 1.        ],\n",
       "        [0.93333333, 1.        , 1.        , 0.96666667, 1.        ],\n",
       "        [0.93333333, 1.        , 1.        , 0.96666667, 1.        ],\n",
       "        [0.93333333, 1.        , 0.96666667, 0.96666667, 1.        ],\n",
       "        [0.93333333, 1.        , 0.96666667, 0.93333333, 1.        ],\n",
       "        [0.93333333, 1.        , 0.93333333, 0.96666667, 1.        ],\n",
       "        [0.93333333, 1.        , 0.93333333, 0.96666667, 1.        ],\n",
       "        [0.93333333, 1.        , 0.93333333, 0.96666667, 1.        ],\n",
       "        [0.93333333, 1.        , 0.96666667, 0.93333333, 1.        ],\n",
       "        [0.93333333, 1.        , 0.93333333, 0.96666667, 1.        ],\n",
       "        [0.93333333, 1.        , 0.93333333, 0.93333333, 1.        ],\n",
       "        [0.93333333, 1.        , 0.93333333, 0.96666667, 1.        ],\n",
       "        [0.93333333, 1.        , 0.93333333, 0.93333333, 1.        ],\n",
       "        [0.93333333, 1.        , 0.93333333, 0.93333333, 1.        ],\n",
       "        [0.93333333, 0.96666667, 0.9       , 0.93333333, 1.        ],\n",
       "        [0.93333333, 0.96666667, 0.93333333, 0.96666667, 1.        ],\n",
       "        [0.93333333, 0.96666667, 0.93333333, 0.9       , 1.        ],\n",
       "        [0.9       , 0.96666667, 0.93333333, 0.93333333, 1.        ],\n",
       "        [0.9       , 0.96666667, 0.93333333, 0.9       , 1.        ],\n",
       "        [0.9       , 0.96666667, 0.9       , 0.9       , 1.        ],\n",
       "        [0.9       , 0.96666667, 0.93333333, 0.9       , 1.        ],\n",
       "        [0.9       , 0.96666667, 0.9       , 0.9       , 1.        ],\n",
       "        [0.93333333, 0.96666667, 0.93333333, 0.9       , 1.        ],\n",
       "        [0.93333333, 0.96666667, 0.9       , 0.9       , 1.        ],\n",
       "        [0.93333333, 0.96666667, 0.93333333, 0.93333333, 1.        ],\n",
       "        [0.93333333, 0.96666667, 0.93333333, 0.93333333, 1.        ],\n",
       "        [0.93333333, 0.96666667, 0.93333333, 0.93333333, 1.        ],\n",
       "        [0.9       , 0.96666667, 0.93333333, 0.93333333, 1.        ],\n",
       "        [0.93333333, 0.93333333, 0.86666667, 0.93333333, 1.        ],\n",
       "        [0.9       , 0.93333333, 0.93333333, 0.93333333, 1.        ],\n",
       "        [0.9       , 0.93333333, 0.86666667, 0.93333333, 1.        ],\n",
       "        [0.9       , 0.93333333, 0.93333333, 0.93333333, 1.        ],\n",
       "        [0.9       , 0.93333333, 0.93333333, 0.93333333, 1.        ],\n",
       "        [0.9       , 0.93333333, 0.93333333, 0.93333333, 1.        ],\n",
       "        [0.9       , 0.93333333, 0.9       , 0.93333333, 0.96666667],\n",
       "        [0.9       , 0.93333333, 0.9       , 0.96666667, 1.        ],\n",
       "        [0.9       , 0.93333333, 0.9       , 0.96666667, 0.96666667],\n",
       "        [0.9       , 0.93333333, 0.86666667, 0.96666667, 0.96666667],\n",
       "        [0.9       , 0.93333333, 0.9       , 0.96666667, 0.93333333],\n",
       "        [0.9       , 0.93333333, 0.9       , 0.96666667, 1.        ],\n",
       "        [0.9       , 0.93333333, 0.86666667, 0.93333333, 0.93333333],\n",
       "        [0.9       , 0.93333333, 0.9       , 0.93333333, 0.93333333],\n",
       "        [0.9       , 0.93333333, 0.9       , 0.93333333, 0.9       ],\n",
       "        [0.9       , 0.93333333, 0.9       , 0.93333333, 0.9       ],\n",
       "        [0.9       , 0.93333333, 0.83333333, 0.93333333, 0.9       ],\n",
       "        [0.9       , 0.93333333, 0.83333333, 0.93333333, 0.93333333],\n",
       "        [0.9       , 0.93333333, 0.83333333, 0.93333333, 0.86666667],\n",
       "        [0.9       , 0.93333333, 0.83333333, 0.93333333, 0.86666667],\n",
       "        [0.86666667, 0.93333333, 0.83333333, 0.93333333, 0.86666667],\n",
       "        [0.86666667, 0.93333333, 0.83333333, 0.93333333, 0.86666667],\n",
       "        [0.86666667, 0.93333333, 0.83333333, 0.93333333, 0.86666667]]))"
      ]
     },
     "execution_count": 17,
     "metadata": {},
     "output_type": "execute_result"
    }
   ],
   "source": [
    "train_scores, test_scores"
   ]
  },
  {
   "cell_type": "code",
   "execution_count": null,
   "metadata": {},
   "outputs": [],
   "source": []
  }
 ],
 "metadata": {
  "kernelspec": {
   "display_name": "venv",
   "language": "python",
   "name": "venv"
  },
  "language_info": {
   "codemirror_mode": {
    "name": "ipython",
    "version": 3
   },
   "file_extension": ".py",
   "mimetype": "text/x-python",
   "name": "python",
   "nbconvert_exporter": "python",
   "pygments_lexer": "ipython3",
   "version": "3.6.8"
  }
 },
 "nbformat": 4,
 "nbformat_minor": 2
}
